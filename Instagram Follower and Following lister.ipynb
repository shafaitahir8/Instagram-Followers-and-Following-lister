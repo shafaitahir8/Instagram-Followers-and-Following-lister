{
 "cells": [
  {
   "cell_type": "markdown",
   "id": "4e5dcfc4",
   "metadata": {},
   "source": [
    "# Import Libraries"
   ]
  },
  {
   "cell_type": "code",
   "execution_count": 1,
   "id": "56c3b304",
   "metadata": {},
   "outputs": [],
   "source": [
    "# Selenium Imports\n",
    "from selenium import webdriver\n",
    "from selenium.webdriver.common.keys import Keys\n",
    "from selenium.webdriver.support import expected_conditions as EC\n",
    "from selenium.webdriver.common.by import By\n",
    "from selenium.webdriver.support.wait import WebDriverWait\n",
    "from selenium.webdriver.common.action_chains import ActionChains"
   ]
  },
  {
   "cell_type": "code",
   "execution_count": 2,
   "id": "fe2e9b8c",
   "metadata": {},
   "outputs": [],
   "source": [
    "# Other imports here\n",
    "import os\n",
    "import wget\n",
    "import numpy as np\n",
    "import pandas as pd\n",
    "import time\n",
    "import re\n",
    "from IPython.display import clear_output\n",
    "import pyautogui"
   ]
  },
  {
   "cell_type": "markdown",
   "id": "4f5403ec",
   "metadata": {},
   "source": [
    "# Initialize driver"
   ]
  },
  {
   "cell_type": "code",
   "execution_count": 3,
   "id": "f12e5865",
   "metadata": {},
   "outputs": [
    {
     "name": "stderr",
     "output_type": "stream",
     "text": [
      "C:\\Users\\user\\AppData\\Local\\Temp\\ipykernel_4652\\4188815714.py:2: DeprecationWarning: executable_path has been deprecated, please pass in a Service object\n",
      "  driver = webdriver.Chrome('F:/downloood/chromedriver.exe')\n"
     ]
    }
   ],
   "source": [
    "# download 'Chrome Driver' and run it\n",
    "driver = webdriver.Chrome('F:/downloood/chromedriver.exe')\n",
    "\n",
    "# Declare a Dataframe to store the usernames\n",
    "df = pd.DataFrame()"
   ]
  },
  {
   "cell_type": "markdown",
   "id": "05904037",
   "metadata": {},
   "source": [
    "# Log in and close the popups"
   ]
  },
  {
   "cell_type": "code",
   "execution_count": 4,
   "id": "b1e32549",
   "metadata": {},
   "outputs": [],
   "source": [
    "# Open instagram with get() function and wait for it to open\n",
    "driver.get('https://www.instagram.com/')\n",
    "time.sleep(5)\n",
    "\n",
    "# Target the username and password element and input\n",
    "username = WebDriverWait(driver,10).until(EC.element_to_be_clickable((By.CSS_SELECTOR,\"input[name='username']\")))\n",
    "password = WebDriverWait(driver,10).until(EC.element_to_be_clickable((By.CSS_SELECTOR,\"input[name='password']\")))\n",
    "\n",
    "# clears the field if by any chance it is autofilled\n",
    "username.clear()\n",
    "password.clear()\n",
    "\n",
    "# Fills the username and pass\n",
    "username.send_keys(\"Your-username-here\")\n",
    "password.send_keys(\"Your-Password-here\")\n",
    "\n",
    "# Press Submit button\n",
    "time.sleep(2)\n",
    "username = WebDriverWait(driver,10).until(EC.element_to_be_clickable((By.CSS_SELECTOR,\"button[type='submit']\"))).click()\n",
    "\n",
    "# press 'Not Now' button twice\n",
    "not_now = WebDriverWait(driver,10).until(EC.element_to_be_clickable((By.XPATH, \"//button[contains(text(), 'Not Now')]\"))).click()\n",
    "time.sleep(5)\n",
    "driver.find_element(By.XPATH, \"//button[contains(text(), 'Not Now')]\").click()"
   ]
  },
  {
   "cell_type": "markdown",
   "id": "3af79f20",
   "metadata": {},
   "source": [
    "# Gather usernames"
   ]
  },
  {
   "cell_type": "code",
   "execution_count": 5,
   "id": "9e6984dc",
   "metadata": {},
   "outputs": [],
   "source": [
    "#Input the profile link of the user whose followers and following are to be gathered\n",
    "link = 'https://www.instagram.com/selenagomez/'\n",
    "\n",
    "driver.get(link)\n",
    "time.sleep(6)\n",
    "driver.maximize_window()\n",
    "\n",
    "# open the followers list\n",
    "driver.find_element(By.XPATH,\"//*[contains(text(), ' followers')]\").click()\n",
    "time.sleep(1)\n",
    "\n",
    "#scroll\n",
    "Clicks = 1000 #Set the amount to be scrolled (i.e for 500 followers 1500 clicks are recommended)\n",
    "count=0\n",
    "while count<Clicks:\n",
    "    #MIGHT HAVE TO ADJUST THE COORDINATES FOR YOUR SCREEN SIZE\n",
    "    pyautogui.click(1140, 692)\n",
    "    count = count +1\n",
    "\n",
    "#Fetch Followers\n",
    "followers = []\n",
    "followers = driver.find_elements(By.CSS_SELECTOR, \"div > div > span > a\")\n",
    "followers = [follower.get_attribute('href') for follower in followers]\n",
    "\n",
    "driver.get(link)\n",
    "time.sleep(5)\n",
    "\n",
    "# open the Following list\n",
    "driver.find_element(By.XPATH,\"//*[contains(text(), ' following')]\").click()\n",
    "time.sleep(1)\n",
    "\n",
    "#scroll\n",
    "count=0\n",
    "while count<Clicks:\n",
    "    pyautogui.click(1140, 710)\n",
    "    count = count +1\n",
    "\n",
    "#Fetch Following\n",
    "following = []\n",
    "following = driver.find_elements(By.CSS_SELECTOR, \"div > div > span > a\")\n",
    "following = [follower.get_attribute('href') for follower in following]\n",
    "\n",
    "print(following)\n",
    "time.sleep(3)\n",
    "clear_output()\n",
    "\n",
    "#get usernames \n",
    "count = -1        \n",
    "for follower in followers:\n",
    "    count = count + 1\n",
    "    followers[count] = follower.split(\"com/\")[1]\n",
    "    followers[count] = followers[count].split(\"/\")[0]\n",
    "\n",
    "count = -1        \n",
    "for follower in following:\n",
    "    count = count + 1\n",
    "    following[count] = follower.split(\"com/\")[1]\n",
    "    following[count] = following[count].split(\"/\")[0]\n",
    "\n",
    "time.sleep(2)\n",
    "df['Followers'] = pd.Series(followers)\n",
    "df['Following'] = pd.Series(following)"
   ]
  },
  {
   "cell_type": "code",
   "execution_count": 6,
   "id": "f3ed476a",
   "metadata": {},
   "outputs": [
    {
     "data": {
      "text/html": [
       "<div>\n",
       "<style scoped>\n",
       "    .dataframe tbody tr th:only-of-type {\n",
       "        vertical-align: middle;\n",
       "    }\n",
       "\n",
       "    .dataframe tbody tr th {\n",
       "        vertical-align: top;\n",
       "    }\n",
       "\n",
       "    .dataframe thead th {\n",
       "        text-align: right;\n",
       "    }\n",
       "</style>\n",
       "<table border=\"1\" class=\"dataframe\">\n",
       "  <thead>\n",
       "    <tr style=\"text-align: right;\">\n",
       "      <th></th>\n",
       "      <th>Followers</th>\n",
       "      <th>Following</th>\n",
       "    </tr>\n",
       "  </thead>\n",
       "  <tbody>\n",
       "    <tr>\n",
       "      <th>count</th>\n",
       "      <td>663</td>\n",
       "      <td>227</td>\n",
       "    </tr>\n",
       "    <tr>\n",
       "      <th>unique</th>\n",
       "      <td>663</td>\n",
       "      <td>227</td>\n",
       "    </tr>\n",
       "    <tr>\n",
       "      <th>top</th>\n",
       "      <td>123456789yvra</td>\n",
       "      <td>tuna__turner</td>\n",
       "    </tr>\n",
       "    <tr>\n",
       "      <th>freq</th>\n",
       "      <td>1</td>\n",
       "      <td>1</td>\n",
       "    </tr>\n",
       "  </tbody>\n",
       "</table>\n",
       "</div>"
      ],
      "text/plain": [
       "            Followers     Following\n",
       "count             663           227\n",
       "unique            663           227\n",
       "top     123456789yvra  tuna__turner\n",
       "freq                1             1"
      ]
     },
     "execution_count": 6,
     "metadata": {},
     "output_type": "execute_result"
    }
   ],
   "source": [
    "df.describe()"
   ]
  },
  {
   "cell_type": "markdown",
   "id": "c44689ec",
   "metadata": {},
   "source": [
    "# Now that we have gathered the follower list we can drive insights from it depending on the use case"
   ]
  },
  {
   "cell_type": "code",
   "execution_count": 7,
   "id": "4bd4ece2",
   "metadata": {},
   "outputs": [
    {
     "data": {
      "text/plain": [
       "0        tuna__turner\n",
       "1        kristenlkish\n",
       "2            heisrema\n",
       "3      serenawilliams\n",
       "4         sofiacarson\n",
       "            ...      \n",
       "658               NaN\n",
       "659               NaN\n",
       "660               NaN\n",
       "661               NaN\n",
       "662               NaN\n",
       "Name: Not Following Back, Length: 663, dtype: object"
      ]
     },
     "execution_count": 7,
     "metadata": {},
     "output_type": "execute_result"
    }
   ],
   "source": [
    "# Get to know which accounts you follow but they dont follow you back\n",
    "NotFollowingBack = []\n",
    "for follower in df['Following']:\n",
    "    if follower not in set(df['Followers']):\n",
    "            NotFollowingBack.append(follower)\n",
    "df['Not Following Back'] = pd.Series(NotFollowingBack)\n",
    "df['Not Following Back']"
   ]
  },
  {
   "cell_type": "code",
   "execution_count": 8,
   "id": "e8069d0c",
   "metadata": {},
   "outputs": [
    {
     "data": {
      "text/html": [
       "<div>\n",
       "<style scoped>\n",
       "    .dataframe tbody tr th:only-of-type {\n",
       "        vertical-align: middle;\n",
       "    }\n",
       "\n",
       "    .dataframe tbody tr th {\n",
       "        vertical-align: top;\n",
       "    }\n",
       "\n",
       "    .dataframe thead th {\n",
       "        text-align: right;\n",
       "    }\n",
       "</style>\n",
       "<table border=\"1\" class=\"dataframe\">\n",
       "  <thead>\n",
       "    <tr style=\"text-align: right;\">\n",
       "      <th></th>\n",
       "      <th>Followers</th>\n",
       "      <th>Following</th>\n",
       "      <th>Not Following Back</th>\n",
       "    </tr>\n",
       "  </thead>\n",
       "  <tbody>\n",
       "    <tr>\n",
       "      <th>0</th>\n",
       "      <td>123456789yvra</td>\n",
       "      <td>tuna__turner</td>\n",
       "      <td>tuna__turner</td>\n",
       "    </tr>\n",
       "    <tr>\n",
       "      <th>1</th>\n",
       "      <td>emanuellasantana437</td>\n",
       "      <td>kristenlkish</td>\n",
       "      <td>kristenlkish</td>\n",
       "    </tr>\n",
       "    <tr>\n",
       "      <th>2</th>\n",
       "      <td>_mr_smarty7777</td>\n",
       "      <td>heisrema</td>\n",
       "      <td>heisrema</td>\n",
       "    </tr>\n",
       "    <tr>\n",
       "      <th>3</th>\n",
       "      <td>aadi_saini158</td>\n",
       "      <td>serenawilliams</td>\n",
       "      <td>serenawilliams</td>\n",
       "    </tr>\n",
       "    <tr>\n",
       "      <th>4</th>\n",
       "      <td>_benaivo_</td>\n",
       "      <td>sofiacarson</td>\n",
       "      <td>sofiacarson</td>\n",
       "    </tr>\n",
       "    <tr>\n",
       "      <th>...</th>\n",
       "      <td>...</td>\n",
       "      <td>...</td>\n",
       "      <td>...</td>\n",
       "    </tr>\n",
       "    <tr>\n",
       "      <th>658</th>\n",
       "      <td>nikitanazli</td>\n",
       "      <td>NaN</td>\n",
       "      <td>NaN</td>\n",
       "    </tr>\n",
       "    <tr>\n",
       "      <th>659</th>\n",
       "      <td>pinkukashyap848</td>\n",
       "      <td>NaN</td>\n",
       "      <td>NaN</td>\n",
       "    </tr>\n",
       "    <tr>\n",
       "      <th>660</th>\n",
       "      <td>viviangodoi56</td>\n",
       "      <td>NaN</td>\n",
       "      <td>NaN</td>\n",
       "    </tr>\n",
       "    <tr>\n",
       "      <th>661</th>\n",
       "      <td>shamaravbatakar</td>\n",
       "      <td>NaN</td>\n",
       "      <td>NaN</td>\n",
       "    </tr>\n",
       "    <tr>\n",
       "      <th>662</th>\n",
       "      <td>deejane12</td>\n",
       "      <td>NaN</td>\n",
       "      <td>NaN</td>\n",
       "    </tr>\n",
       "  </tbody>\n",
       "</table>\n",
       "<p>663 rows × 3 columns</p>\n",
       "</div>"
      ],
      "text/plain": [
       "               Followers       Following Not Following Back\n",
       "0          123456789yvra    tuna__turner       tuna__turner\n",
       "1    emanuellasantana437    kristenlkish       kristenlkish\n",
       "2         _mr_smarty7777        heisrema           heisrema\n",
       "3          aadi_saini158  serenawilliams     serenawilliams\n",
       "4              _benaivo_     sofiacarson        sofiacarson\n",
       "..                   ...             ...                ...\n",
       "658          nikitanazli             NaN                NaN\n",
       "659      pinkukashyap848             NaN                NaN\n",
       "660        viviangodoi56             NaN                NaN\n",
       "661      shamaravbatakar             NaN                NaN\n",
       "662            deejane12             NaN                NaN\n",
       "\n",
       "[663 rows x 3 columns]"
      ]
     },
     "execution_count": 8,
     "metadata": {},
     "output_type": "execute_result"
    }
   ],
   "source": [
    "df"
   ]
  },
  {
   "cell_type": "markdown",
   "id": "3c54f219",
   "metadata": {},
   "source": [
    "# Save the gathered data"
   ]
  },
  {
   "cell_type": "code",
   "execution_count": 9,
   "id": "780e8593",
   "metadata": {},
   "outputs": [],
   "source": [
    "#save the data as a .CSV file\n",
    "df.to_csv('MyInstagramFollowers.csv',index=False)"
   ]
  }
 ],
 "metadata": {
  "kernelspec": {
   "display_name": "Python 3 (ipykernel)",
   "language": "python",
   "name": "python3"
  },
  "language_info": {
   "codemirror_mode": {
    "name": "ipython",
    "version": 3
   },
   "file_extension": ".py",
   "mimetype": "text/x-python",
   "name": "python",
   "nbconvert_exporter": "python",
   "pygments_lexer": "ipython3",
   "version": "3.9.12"
  }
 },
 "nbformat": 4,
 "nbformat_minor": 5
}
